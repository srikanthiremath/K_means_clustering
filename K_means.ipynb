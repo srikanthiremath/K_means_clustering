{
  "nbformat": 4,
  "nbformat_minor": 0,
  "metadata": {
    "colab": {
      "name": "Untitled0.ipynb",
      "version": "0.3.2",
      "provenance": [],
      "collapsed_sections": []
    },
    "kernelspec": {
      "name": "python3",
      "display_name": "Python 3"
    }
  },
  "cells": [
    {
      "cell_type": "code",
      "metadata": {
        "id": "Vwljdk_8uyff",
        "colab_type": "code",
        "colab": {
          "base_uri": "https://localhost:8080/",
          "height": 286
        },
        "outputId": "460dfb6b-2a41-410e-954b-1c474e29ce61"
      },
      "source": [
        "import numpy as np\n",
        "import matplotlib.pyplot as plt\n",
        "from matplotlib import style\n",
        "style.use('ggplot')\n",
        "import pandas as pd\n",
        "\n",
        "\n",
        "X = pd.read_csv('https://gist.githubusercontent.com/prmishra/0e42b7444729751f354f668687ae0f4c/raw/072e4757d4041f789f00b0943b6ffed607342f16/data.csv')\n",
        "X = np.array(X)\n",
        "\n",
        "plt.scatter(X[:,0],X[:,1],s=100,marker=\"x\",color=color,linewidth=5)"
      ],
      "execution_count": 24,
      "outputs": [
        {
          "output_type": "execute_result",
          "data": {
            "text/plain": [
              "<matplotlib.collections.PathCollection at 0x7fe9b0320a58>"
            ]
          },
          "metadata": {
            "tags": []
          },
          "execution_count": 24
        },
        {
          "output_type": "display_data",
          "data": {
            "image/png": "[encoded data removed]",
            "text/plain": [
              "<Figure size 432x288 with 1 Axes>"
            ]
          },
          "metadata": {
            "tags": []
          }
        }
      ]
    },
    {
      "cell_type": "code",
      "metadata": {
        "id": "10Yr3qWXvHwb",
        "colab_type": "code",
        "colab": {}
      },
      "source": [
        "colors = 10*['g','r','c','b','k']\n",
        "\n",
        "class k_means:\n",
        "  def __init__(self,k=3,tol=0.001,max_iter=300):\n",
        "    self.k = k\n",
        "    self.tol = tol\n",
        "    self.max_iter = max_iter\n",
        "    \n",
        "  def fit(self,data):\n",
        "    self.centroids = {}\n",
        "    for i in range(self.k):\n",
        "      self.centroids[i]=data[i]\n",
        "      \n",
        "    for i in range(self.max_iter):\n",
        "      self.classifications = {}\n",
        "      \n",
        "      for i in range(self.k):\n",
        "        self.classifications[i]=[]\n",
        "      \n",
        "      for featureset in data:\n",
        "        distances=[np.linalg.norm(featureset-self.centroids[centroid]) for centroid in self.centroids]\n",
        "        classification = distances.index(min(distances))\n",
        "        self.classifications[classification].append(featureset)\n",
        "      \n",
        "      prev_centroid = dict(self.centroids)\n",
        "    \n",
        "      for classification in self.classifications:\n",
        "        self.centroids[classification]=np.average(self.classifications[classification],axis=0)\n",
        "      \n",
        "      optimized = True\n",
        "    \n",
        "      for c in self.centroids:\n",
        "        org_centroid = prev_centroid[c]\n",
        "        current_centroid = self.centroids[c]\n",
        "        if(np.sum((current_centroid-org_centroid)/org_centroid*100)>self.tol):\n",
        "          optimized = False\n",
        "        \n",
        "      if optimized:\n",
        "        break\n",
        "      \n",
        "  \n",
        "      \n",
        "      \n",
        "      \n",
        "      \n",
        "      \n",
        "      \n",
        "      \n",
        "   "
      ],
      "execution_count": 0,
      "outputs": []
    },
    {
      "cell_type": "code",
      "metadata": {
        "id": "l4SRaEM0vIOb",
        "colab_type": "code",
        "colab": {
          "base_uri": "https://localhost:8080/",
          "height": 269
        },
        "outputId": "45624677-f349-48a9-b132-4a1fa2f175b5"
      },
      "source": [
        "clf = k_means()\n",
        "clf.fit(X)\n",
        "\n",
        "  \n",
        "for classification in clf.classifications:\n",
        "  color = colors[classification]\n",
        "  for featureset in clf.classifications[classification]:\n",
        "    plt.scatter(featureset[0],featureset[1],marker=\"x\",color=color,s=100,linewidth=5)\n",
        "    \n",
        "\n",
        "for centroid in clf.centroids:\n",
        "  plt.scatter(clf.centroids[centroid][0],clf.centroids[centroid][1],marker=\"o\",color='k',s=50,linewidth=5)"
      ],
      "execution_count": 27,
      "outputs": [
        {
          "output_type": "display_data",
          "data": {
            "image/png": "[encoded data removed]",
            "text/plain": [
              "<Figure size 432x288 with 1 Axes>"
            ]
          },
          "metadata": {
            "tags": []
          }
        }
      ]
    },
    {
      "cell_type": "code",
      "metadata": {
        "id": "V1-hmiWKvIZj",
        "colab_type": "code",
        "colab": {}
      },
      "source": [
        ""
      ],
      "execution_count": 0,
      "outputs": []
    },
    {
      "cell_type": "code",
      "metadata": {
        "id": "B1_2LSBLvIjt",
        "colab_type": "code",
        "colab": {}
      },
      "source": [
        ""
      ],
      "execution_count": 0,
      "outputs": []
    },
    {
      "cell_type": "code",
      "metadata": {
        "id": "CmPxuhCpvIpB",
        "colab_type": "code",
        "colab": {}
      },
      "source": [
        ""
      ],
      "execution_count": 0,
      "outputs": []
    },
    {
      "cell_type": "code",
      "metadata": {
        "id": "gpJsT8EAvItp",
        "colab_type": "code",
        "colab": {}
      },
      "source": [
        ""
      ],
      "execution_count": 0,
      "outputs": []
    },
    {
      "cell_type": "code",
      "metadata": {
        "id": "6oNNMcX1vIyt",
        "colab_type": "code",
        "colab": {}
      },
      "source": [
        ""
      ],
      "execution_count": 0,
      "outputs": []
    },
    {
      "cell_type": "code",
      "metadata": {
        "id": "fVJO9KOjvI1M",
        "colab_type": "code",
        "colab": {}
      },
      "source": [
        ""
      ],
      "execution_count": 0,
      "outputs": []
    },
    {
      "cell_type": "code",
      "metadata": {
        "id": "7QsHq8VtvI41",
        "colab_type": "code",
        "colab": {}
      },
      "source": [
        ""
      ],
      "execution_count": 0,
      "outputs": []
    },
    {
      "cell_type": "code",
      "metadata": {
        "id": "loTj2Me7vI8f",
        "colab_type": "code",
        "colab": {}
      },
      "source": [
        ""
      ],
      "execution_count": 0,
      "outputs": []
    },
    {
      "cell_type": "code",
      "metadata": {
        "id": "UlWD4TXqvJAL",
        "colab_type": "code",
        "colab": {}
      },
      "source": [
        ""
      ],
      "execution_count": 0,
      "outputs": []
    },
    {
      "cell_type": "code",
      "metadata": {
        "id": "XtiqWr5EvJEE",
        "colab_type": "code",
        "colab": {}
      },
      "source": [
        ""
      ],
      "execution_count": 0,
      "outputs": []
    },
    {
      "cell_type": "code",
      "metadata": {
        "id": "JbjUOmCTvJIC",
        "colab_type": "code",
        "colab": {}
      },
      "source": [
        ""
      ],
      "execution_count": 0,
      "outputs": []
    },
    {
      "cell_type": "code",
      "metadata": {
        "id": "F3UuOQlEvJV1",
        "colab_type": "code",
        "colab": {}
      },
      "source": [
        ""
      ],
      "execution_count": 0,
      "outputs": []
    }
  ]
}